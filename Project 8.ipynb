{
 "cells": [
  {
   "cell_type": "raw",
   "id": "99fb7d95-e3d5-441a-a528-9deab7d6c9da",
   "metadata": {},
   "source": [
    "Project 8\n",
    "\n",
    " \n"
   ]
  },
  {
   "cell_type": "code",
   "execution_count": null,
   "id": "63baf918-c94e-4fb0-8c6b-4d1f8e5ae7e9",
   "metadata": {},
   "outputs": [],
   "source": [
    "Recommender (Build intelligence to help customers discover products they may like and most likely purchase)"
   ]
  },
  {
   "cell_type": "raw",
   "id": "79aca75b-241e-4733-877e-94c8a7882913",
   "metadata": {},
   "source": [
    "1. Data Collection\n",
    "Objective: Collect product data, customer profiles, purchase history, and browsing behavior from the e-commerce platform.\n",
    "\n",
    "Steps:\n",
    "\n",
    "Download and extract the dataset from the provided zip file.\n",
    "Load the data into pandas dataframes."
   ]
  },
  {
   "cell_type": "code",
   "execution_count": null,
   "id": "89daf87c-e3f5-478e-b53b-e5ad2e371786",
   "metadata": {},
   "outputs": [],
   "source": [
    "import pandas as pd\n",
    "\n",
    "# Load data\n",
    "product_data = pd.read_csv('products.csv')\n",
    "customer_profiles = pd.read_csv('customer_profiles.csv')\n",
    "purchase_history = pd.read_csv('purchase_history.csv')\n",
    "browsing_history = pd.read_csv('browsing_history.csv')\n"
   ]
  },
  {
   "cell_type": "raw",
   "id": "faef2f5f-7830-4712-94d8-804e9b59310c",
   "metadata": {},
   "source": [
    "2. Data Preprocessing\n",
    "Objective: Clean, preprocess, and transform the data to make it suitable for recommendation modeling.\n",
    "\n",
    "Steps:\n",
    "\n",
    "Handle missing values, duplicates, and outliers.\n",
    "Merge relevant datasets based on customer IDs or product IDs.\n",
    "Encode categorical variables if necessary."
   ]
  },
  {
   "cell_type": "code",
   "execution_count": null,
   "id": "6cc7cb83-140c-483d-a4d1-30ec26558a67",
   "metadata": {},
   "outputs": [],
   "source": [
    "# Merge datasets\n",
    "customer_data = pd.merge(customer_profiles, purchase_history, on='customer_id', how='left')\n",
    "customer_data = pd.merge(customer_data, browsing_history, on='customer_id', how='left')\n",
    "\n",
    "# Handle missing values\n",
    "customer_data.fillna(0, inplace=True)\n",
    "\n",
    "# Encode categorical variables\n",
    "from sklearn.preprocessing import LabelEncoder\n",
    "\n",
    "encoder = LabelEncoder()\n",
    "customer_data['encoded_gender'] = encoder.fit_transform(customer_data['gender'])\n"
   ]
  },
  {
   "cell_type": "raw",
   "id": "c4140f5e-39e9-484b-a8c9-50ffa47626bd",
   "metadata": {},
   "source": [
    "3. Recommendation Techniques\n",
    "Objective: Implement collaborative filtering, content-based filtering, and hybrid models for product recommendations.\n",
    "\n",
    "Steps:\n",
    "\n",
    "Build collaborative filtering models based on user-item interactions.\n",
    "Develop content-based filtering models using product features.\n",
    "Explore hybrid models that combine collaborative and content-based approaches."
   ]
  },
  {
   "cell_type": "code",
   "execution_count": null,
   "id": "55f135c9-9a2e-4c48-99c6-4384ccf392b1",
   "metadata": {},
   "outputs": [],
   "source": [
    "# Collaborative Filtering\n",
    "from surprise import Dataset, Reader, KNNBasic\n",
    "from surprise.model_selection import train_test_split, cross_validate\n",
    "\n",
    "reader = Reader(rating_scale=(1, 5))\n",
    "data = Dataset.load_from_df(customer_data[['customer_id', 'product_id', 'rating']], reader)\n",
    "trainset, testset = train_test_split(data, test_size=0.2, random_state=42)\n",
    "\n",
    "algo_cf = KNNBasic()\n",
    "algo_cf.fit(trainset)\n",
    "predictions_cf = algo_cf.test(testset)\n",
    "\n",
    "# Content-based Filtering\n",
    "# Develop content-based models using product features\n",
    "\n",
    "# Hybrid Models\n",
    "# Combine collaborative and content-based approaches\n"
   ]
  },
  {
   "cell_type": "raw",
   "id": "499aaca5-2614-4c9c-8266-c237a656d119",
   "metadata": {},
   "source": [
    "4. Evaluation Metrics\n",
    "Objective: Utilize metrics like precision, recall, F1-score, and mean average precision to evaluate the performance of the recommender system.\n",
    "\n",
    "Steps:\n",
    "\n",
    "Calculate relevant evaluation metrics for each recommendation technique.\n",
    "Assess the system's performance on a validation dataset."
   ]
  },
  {
   "cell_type": "code",
   "execution_count": null,
   "id": "69c83b04-7e4c-4663-a60c-19c3f9e7b63a",
   "metadata": {},
   "outputs": [],
   "source": []
  }
 ],
 "metadata": {
  "kernelspec": {
   "display_name": "Python 3 (ipykernel)",
   "language": "python",
   "name": "python3"
  },
  "language_info": {
   "codemirror_mode": {
    "name": "ipython",
    "version": 3
   },
   "file_extension": ".py",
   "mimetype": "text/x-python",
   "name": "python",
   "nbconvert_exporter": "python",
   "pygments_lexer": "ipython3",
   "version": "3.11.7"
  }
 },
 "nbformat": 4,
 "nbformat_minor": 5
}
