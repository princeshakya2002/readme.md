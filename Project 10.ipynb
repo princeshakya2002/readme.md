{
 "cells": [
  {
   "cell_type": "markdown",
   "id": "cda6406e-19bd-481f-828a-675d014b77f1",
   "metadata": {},
   "source": [
    "Project 10\n",
    "\n"
   ]
  },
  {
   "cell_type": "markdown",
   "id": "2a1117c1-ad77-46b9-bd93-7865b2524818",
   "metadata": {},
   "source": [
    "Intensity Analysis (Build your own model using NLP and Python) "
   ]
  },
  {
   "cell_type": "raw",
   "id": "d59072a5-e631-4b04-9bac-23bc599851c3",
   "metadata": {},
   "source": [
    "1. Data Collection\n",
    "Objective: Gather all intensity data, including text and its intensity.\n",
    "\n",
    "Steps:\n",
    "\n",
    "Download and extract the dataset from the provided zip file.\n",
    "Explore and understand the dataset's structure and contents.\n",
    "\n"
   ]
  },
  {
   "cell_type": "code",
   "execution_count": null,
   "id": "8a3b71f9-b9fd-4431-a031-9090c9149e0c",
   "metadata": {},
   "outputs": [],
   "source": [
    "import pandas as pd\n",
    "\n",
    "# Load data\n",
    "intensity_data = pd.read_csv('intensity_data.csv')\n",
    "\n",
    "# Explore data structure\n",
    "intensity_data.head()\n",
    "intensity_data.info()\n"
   ]
  },
  {
   "cell_type": "raw",
   "id": "2ca80b38-f7fb-4894-a22e-88e9e028c585",
   "metadata": {},
   "source": [
    "2. Data Preprocessing\n",
    "Objective: Clean, preprocess, and transform the data to make it suitable for machine learning models.\n",
    "\n",
    "Steps:\n",
    "\n",
    "Handle missing values, if any.\n",
    "Remove noise and inconsistencies from the text data.\n",
    "Tokenize, lemmatize, and remove stop words from the text."
   ]
  },
  {
   "cell_type": "code",
   "execution_count": null,
   "id": "d55821a6-4877-431d-ad70-4b66686a8d82",
   "metadata": {},
   "outputs": [],
   "source": [
    "# Handle missing values\n",
    "intensity_data.dropna(inplace=True)\n",
    "\n",
    "# Clean text data\n",
    "# Remove noise and inconsistencies\n",
    "# Tokenization, Lemmatization, Stop words removal\n"
   ]
  },
  {
   "cell_type": "raw",
   "id": "f05dad40-3f72-424d-a1e8-a9c21997e7e3",
   "metadata": {},
   "source": [
    "3. Feature Engineering\n",
    "Objective: Extract relevant features and identify key process variables that impact intensity.\n",
    "\n",
    "Steps:\n",
    "\n",
    "Analyze the text data to identify key features related to intensity.\n",
    "Extract relevant features such as word frequency, sentiment scores, etc."
   ]
  },
  {
   "cell_type": "code",
   "execution_count": null,
   "id": "8bb1baf8-c1e0-443c-ac30-5248c4003bb0",
   "metadata": {},
   "outputs": [],
   "source": [
    "# Analyze text data for key features\n",
    "# Extract features such as word frequency, sentiment scores, etc.\n"
   ]
  },
  {
   "cell_type": "raw",
   "id": "ef26b528-416d-41d7-aefa-35079ccd92b9",
   "metadata": {},
   "source": [
    "4. Model Selection\n",
    "Objective: Choose appropriate machine learning algorithms for intensity classification.\n",
    "\n",
    "Steps:\n",
    "\n",
    "Explore and select suitable NLP models such as LSTM, BERT, or TF-IDF with classifiers.\n",
    "Choose models based on performance and complexity trade-offs."
   ]
  },
  {
   "cell_type": "code",
   "execution_count": null,
   "id": "ddb4b13c-1169-41ea-b61d-a77732121b84",
   "metadata": {},
   "outputs": [],
   "source": [
    "from sklearn.feature_extraction.text import TfidfVectorizer\n",
    "from sklearn.pipeline import make_pipeline\n",
    "from sklearn.svm import SVC\n",
    "\n",
    "# Define NLP model pipeline\n",
    "model = make_pipeline(TfidfVectorizer(), SVC())\n"
   ]
  },
  {
   "cell_type": "raw",
   "id": "c67e88b0-f1a7-4597-ab94-576dc6aab546",
   "metadata": {},
   "source": [
    "5. Model Training\n",
    "Objective: Train the selected models using the preprocessed data.\n",
    "\n",
    "Steps:\n",
    "\n",
    "Split the data into training and testing sets.\n",
    "Train the models using the training data."
   ]
  },
  {
   "cell_type": "code",
   "execution_count": null,
   "id": "79ace8c8-7290-4d46-9534-3c2d44d53ced",
   "metadata": {},
   "outputs": [],
   "source": [
    "from sklearn.model_selection import train_test_split\n",
    "\n",
    "X_train, X_test, y_train, y_test = train_test_split(X, y, test_size=0.2, random_state=42)\n",
    "\n",
    "# Train the model\n",
    "model.fit(X_train, y_train)\n"
   ]
  },
  {
   "cell_type": "raw",
   "id": "2de56fa6-97b0-4883-8289-6ce5f6713e63",
   "metadata": {},
   "source": [
    "6. Model Evaluation\n",
    "Objective: Evaluate the models' performance using appropriate evaluation metrics.\n",
    "\n",
    "Steps:\n",
    "\n",
    "Evaluate models' performance using metrics like accuracy, precision, recall, F1-score.\n",
    "Validate the model's performance and address any issues.\n",
    "python\n"
   ]
  },
  {
   "cell_type": "code",
   "execution_count": null,
   "id": "07bfd54b-7b9b-430b-add1-1e2f11f04738",
   "metadata": {},
   "outputs": [],
   "source": [
    "from sklearn.metrics import accuracy_score, precision_score, recall_score, f1_score\n",
    "\n",
    "# Predictions\n",
    "y_pred = model.predict(X_test)\n",
    "\n",
    "# Evaluation metrics\n",
    "accuracy = accuracy_score(y_test, y_pred)\n",
    "precision = precision_score(y_test, y_pred, average='weighted')\n",
    "recall = recall_score(y_test, y_pred, average='weighted')\n",
    "f1 = f1_score(y_test, y_pred, average='weighted')"
   ]
  },
  {
   "cell_type": "code",
   "execution_count": null,
   "id": "018930fa-0908-4485-9995-78cc90029221",
   "metadata": {},
   "outputs": [],
   "source": []
  }
 ],
 "metadata": {
  "kernelspec": {
   "display_name": "Python 3 (ipykernel)",
   "language": "python",
   "name": "python3"
  },
  "language_info": {
   "codemirror_mode": {
    "name": "ipython",
    "version": 3
   },
   "file_extension": ".py",
   "mimetype": "text/x-python",
   "name": "python",
   "nbconvert_exporter": "python",
   "pygments_lexer": "ipython3",
   "version": "3.11.7"
  }
 },
 "nbformat": 4,
 "nbformat_minor": 5
}
